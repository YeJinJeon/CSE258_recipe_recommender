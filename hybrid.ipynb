{
 "cells": [
  {
   "cell_type": "code",
   "execution_count": null,
   "metadata": {},
   "outputs": [],
   "source": []
  }
 ],
 "metadata": {
  "kernelspec": {
   "display_name": "Python 3.8.15 ('recipe')",
   "language": "python",
   "name": "python3"
  },
  "language_info": {
   "name": "python",
   "version": "3.8.15"
  },
  "orig_nbformat": 4,
  "vscode": {
   "interpreter": {
    "hash": "69c9df83c9beb7eb367d45a743bebb10bf028babe0247f6b5c4e1ec81fa6b650"
   }
  }
 },
 "nbformat": 4,
 "nbformat_minor": 2
}
